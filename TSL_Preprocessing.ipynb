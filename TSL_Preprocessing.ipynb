{
  "nbformat": 4,
  "nbformat_minor": 0,
  "metadata": {
    "colab": {
      "name": "TSL_Preprocessing.ipynb",
      "provenance": [],
      "collapsed_sections": [
        "aWvfnFXnmoj_",
        "SOMsarF5msHh",
        "0ag-0VdKZ3Tq",
        "GBTGxsmZ0ltX",
        "dExR-Y_V89u1"
      ],
      "authorship_tag": "ABX9TyNOEWEES38Zhqm4Hx9tu0rH",
      "include_colab_link": true
    },
    "kernelspec": {
      "name": "python3",
      "display_name": "Python 3"
    },
    "accelerator": "GPU"
  },
  "cells": [
    {
      "cell_type": "markdown",
      "metadata": {
        "id": "view-in-github",
        "colab_type": "text"
      },
      "source": [
        "<a href=\"https://colab.research.google.com/github/Paradiddle131/Translating-Sign-Language-to-Text-and-Audio/blob/master/TSL_Preprocessing.ipynb\" target=\"_parent\"><img src=\"https://colab.research.google.com/assets/colab-badge.svg\" alt=\"Open In Colab\"/></a>"
      ]
    },
    {
      "cell_type": "markdown",
      "metadata": {
        "id": "jajYR0L0cSJW",
        "colab_type": "text"
      },
      "source": [
        "TODO:\n",
        "- remove black edges"
      ]
    },
    {
      "cell_type": "markdown",
      "metadata": {
        "id": "aWvfnFXnmoj_",
        "colab_type": "text"
      },
      "source": [
        "## Download Data"
      ]
    },
    {
      "cell_type": "code",
      "metadata": {
        "id": "Au8JJ93tu5rn",
        "colab_type": "code",
        "outputId": "953fdbd2-6ac8-4ab8-a45b-c5a5cbc08b90",
        "colab": {
          "base_uri": "https://localhost:8080/"
        }
      },
      "source": [
        "from google.colab import drive\n",
        "drive.mount('/content/drive')"
      ],
      "execution_count": 0,
      "outputs": [
        {
          "output_type": "stream",
          "text": [
            "Go to this URL in a browser: https://accounts.google.com/o/oauth2/auth?client_id=947318989803-6bn6qk8qdgf4n4g3pfee6491hc0brc4i.apps.googleusercontent.com&redirect_uri=urn%3aietf%3awg%3aoauth%3a2.0%3aoob&response_type=code&scope=email%20https%3a%2f%2fwww.googleapis.com%2fauth%2fdocs.test%20https%3a%2f%2fwww.googleapis.com%2fauth%2fdrive%20https%3a%2f%2fwww.googleapis.com%2fauth%2fdrive.photos.readonly%20https%3a%2f%2fwww.googleapis.com%2fauth%2fpeopleapi.readonly\n",
            "\n",
            "Enter your authorization code:\n",
            "··········\n",
            "Mounted at /content/drive\n"
          ],
          "name": "stdout"
        }
      ]
    },
    {
      "cell_type": "markdown",
      "metadata": {
        "id": "TBYVotQrmjFQ",
        "colab_type": "text"
      },
      "source": [
        "## Core Functions"
      ]
    },
    {
      "cell_type": "code",
      "metadata": {
        "id": "1cREhUT3bJpq",
        "colab_type": "code",
        "colab": {}
      },
      "source": [
        "def mkdir(path):\n",
        "  try:\n",
        "    os.makedirs(path, exist_ok=True)\n",
        "  except OSError:\n",
        "    print(\"Folder already exists. Passing.\")\n",
        "    pass"
      ],
      "execution_count": 0,
      "outputs": []
    },
    {
      "cell_type": "code",
      "metadata": {
        "id": "vjuFM8SZjZeC",
        "colab_type": "code",
        "colab": {}
      },
      "source": [
        "def copy(From, to):\n",
        "  if not os.path.isdir(to):\n",
        "    os.mkdir(to)\n",
        "  files = sorted(os.listdir(From))\n",
        "  for f in files:\n",
        "    shutil.copy(f'{From}/{f}', to)"
      ],
      "execution_count": 0,
      "outputs": []
    },
    {
      "cell_type": "code",
      "metadata": {
        "id": "svTzMPjqp9sM",
        "colab_type": "code",
        "colab": {}
      },
      "source": [
        "def remove_files(path):\n",
        "  for filename in os.listdir(path):\n",
        "    file_path = os.path.join(path, filename)\n",
        "    try:\n",
        "        if os.path.isfile(file_path):\n",
        "            os.remove(file_path)\n",
        "    except Exception as e:\n",
        "        print('Failed to delete %s. Reason: %s' % (file_path, e))"
      ],
      "execution_count": 0,
      "outputs": []
    },
    {
      "cell_type": "code",
      "metadata": {
        "id": "rD2CRVPu0uWe",
        "colab_type": "code",
        "colab": {}
      },
      "source": [
        "def count_files(path):\n",
        "  return len(next(os.walk(path))[2])"
      ],
      "execution_count": 0,
      "outputs": []
    },
    {
      "cell_type": "markdown",
      "metadata": {
        "id": "SOMsarF5msHh",
        "colab_type": "text"
      },
      "source": [
        "## Import Libraries"
      ]
    },
    {
      "cell_type": "code",
      "metadata": {
        "id": "pgiRVwPoZjg4",
        "colab_type": "code",
        "outputId": "b961fb89-4731-4ae9-f851-170d04573ceb",
        "colab": {
          "base_uri": "https://localhost:8080/"
        }
      },
      "source": [
        "import os\n",
        "import shutil\n",
        "import cv2\n",
        "import glob\n",
        "import matplotlib.pyplot as plt\n",
        "import numpy as np\n",
        "from keras.preprocessing.image import ImageDataGenerator, array_to_img, img_to_array, load_img\n",
        "from sklearn.model_selection import train_test_split\n",
        "from keras.utils import to_categorical"
      ],
      "execution_count": 0,
      "outputs": [
        {
          "output_type": "stream",
          "text": [
            "Using TensorFlow backend.\n"
          ],
          "name": "stderr"
        },
        {
          "output_type": "display_data",
          "data": {
            "text/html": [
              "<p style=\"color: red;\">\n",
              "The default version of TensorFlow in Colab will soon switch to TensorFlow 2.x.<br>\n",
              "We recommend you <a href=\"https://www.tensorflow.org/guide/migrate\" target=\"_blank\">upgrade</a> now \n",
              "or ensure your notebook will continue to use TensorFlow 1.x via the <code>%tensorflow_version 1.x</code> magic:\n",
              "<a href=\"https://colab.research.google.com/notebooks/tensorflow_version.ipynb\" target=\"_blank\">more info</a>.</p>\n"
            ],
            "text/plain": [
              "<IPython.core.display.HTML object>"
            ]
          },
          "metadata": {
            "tags": []
          }
        }
      ]
    },
    {
      "cell_type": "code",
      "metadata": {
        "id": "guXZFci2aFOc",
        "colab_type": "code",
        "colab": {}
      },
      "source": [
        "ROOT = '/content/'\n",
        "VID_DIR = os.path.join(ROOT, 'data/vid/cut/')\n",
        "FRAMES_DIR = os.path.join(VID_DIR, 'frames/')\n",
        "FRAMES_RESIZED_DIR = os.path.join(VID_DIR, 'frames_resized/')\n",
        "FRAMES_BORDERLESS_DIR = os.path.join(VID_DIR, 'frames_borderless')\n",
        "TARGET_SIZE = (90, 120)"
      ],
      "execution_count": 0,
      "outputs": []
    },
    {
      "cell_type": "markdown",
      "metadata": {
        "id": "0ag-0VdKZ3Tq",
        "colab_type": "text"
      },
      "source": [
        "## Extract Frames From Videos"
      ]
    },
    {
      "cell_type": "code",
      "metadata": {
        "id": "_T33en38ZofR",
        "colab_type": "code",
        "colab": {}
      },
      "source": [
        "mkdir(os.path.join(VID_DIR))\n",
        "copy('/content/drive/My Drive/Dataset/fingers_dataset/cut/', VID_DIR)"
      ],
      "execution_count": 0,
      "outputs": []
    },
    {
      "cell_type": "code",
      "metadata": {
        "id": "Nv-sKZymZ8ka",
        "colab_type": "code",
        "colab": {}
      },
      "source": [
        "mkdir(FRAMES_DIR)\n",
        "for finger_no, vid in enumerate(sorted(glob.glob(VID_DIR+'*.mp4')), 1):\n",
        "  i = 0\n",
        "  path = FRAMES_DIR+str(finger_no)\n",
        "  mkdir(path)\n",
        "  cap = cv2.VideoCapture(vid)\n",
        "  while(cap.isOpened()):\n",
        "      ret, frame = cap.read()\n",
        "      if ret == False:\n",
        "          break\n",
        "      cv2.imwrite(path+'/'+str(i)+'.jpg', frame)\n",
        "      i += 1\n",
        " \n",
        "cap.release()\n",
        "cv2.destroyAllWindows()"
      ],
      "execution_count": 0,
      "outputs": []
    },
    {
      "cell_type": "code",
      "metadata": {
        "id": "IrOyA1InwHJV",
        "colab_type": "code",
        "colab": {}
      },
      "source": [
        "# [remove_files(folder) for folder in glob.glob('/content/data/vid/cut/frames/*')]"
      ],
      "execution_count": 0,
      "outputs": []
    },
    {
      "cell_type": "markdown",
      "metadata": {
        "id": "GBTGxsmZ0ltX",
        "colab_type": "text"
      },
      "source": [
        "## Data Analysis"
      ]
    },
    {
      "cell_type": "markdown",
      "metadata": {
        "id": "HS6TTRiNbXMf",
        "colab_type": "text"
      },
      "source": [
        "Examine a Sample and Notice the Black Edges"
      ]
    },
    {
      "cell_type": "code",
      "metadata": {
        "id": "GksoWehUa2fW",
        "colab_type": "code",
        "outputId": "b5ced157-f9b6-41d0-fe9f-86ab86e4b404",
        "colab": {
          "base_uri": "https://localhost:8080/"
        }
      },
      "source": [
        "path = '/content/data/vid/cut/frames/5/0.jpg'\n",
        "img = cv2.imread(path)\n",
        "print(img.shape)\n",
        "plt.imshow(cv2.cvtColor(img, cv2.COLOR_BGR2RGB))"
      ],
      "execution_count": 0,
      "outputs": [
        {
          "output_type": "stream",
          "text": [
            "(480, 720, 3)\n"
          ],
          "name": "stdout"
        },
        {
          "output_type": "execute_result",
          "data": {
            "text/plain": [
              "<matplotlib.image.AxesImage at 0x7ff424d7f320>"
            ]
          },
          "metadata": {
            "tags": []
          },
          "execution_count": 11
        },
        {
          "output_type": "display_data",
          "data": {
            "image/png": "[encoded data removed]",
            "text/plain": [
              "<Figure size 432x288 with 1 Axes>"
            ]
          },
          "metadata": {
            "tags": []
          }
        }
      ]
    },
    {
      "cell_type": "markdown",
      "metadata": {
        "id": "ip2r8eFi80xT",
        "colab_type": "text"
      },
      "source": [
        "Remove Black Edges"
      ]
    },
    {
      "cell_type": "code",
      "metadata": {
        "id": "f1QSZ-kKbdbS",
        "colab_type": "code",
        "colab": {}
      },
      "source": [
        "def remove_borders(img_path, target_path):\n",
        "  img = cv2.imread(img_path)\n",
        "  gray = cv2.cvtColor(img, cv2.COLOR_BGR2GRAY)\n",
        "  _,thresh = cv2.threshold(gray,1,255,cv2.THRESH_BINARY)\n",
        "  contours, hierarchy = cv2.findContours(thresh,cv2.RETR_EXTERNAL,cv2.CHAIN_APPROX_SIMPLE)\n",
        "  cnt = contours[-1]\n",
        "  x,y,w,h = cv2.boundingRect(cnt)\n",
        "  # crop = cv2.cvtColor(img[y:y+h,x:x+w], cv2.COLOR_BGR2RGB)\n",
        "  crop = img[y:y+h,x:x+w]\n",
        "  # plt.imshow(crop)\n",
        "  cv2.imwrite(target_path, crop)"
      ],
      "execution_count": 0,
      "outputs": []
    },
    {
      "cell_type": "code",
      "metadata": {
        "id": "qnpuwu3HfFpR",
        "colab_type": "code",
        "colab": {}
      },
      "source": [
        "mkdir(FRAMES_BORDERLESS_DIR)\n",
        "for folder in sorted(os.listdir(FRAMES_DIR)):\n",
        "  mkdir(os.path.join(FRAMES_BORDERLESS_DIR, folder))\n",
        "  finger_path = os.path.join(FRAMES_DIR, folder)\n",
        "  for file in sorted(os.listdir(finger_path)):\n",
        "    remove_borders(os.path.join(finger_path, file), os.path.join(FRAMES_BORDERLESS_DIR, folder, file))"
      ],
      "execution_count": 0,
      "outputs": []
    },
    {
      "cell_type": "code",
      "metadata": {
        "id": "JWaEzfE4uZ_c",
        "colab_type": "code",
        "colab": {}
      },
      "source": [
        "img1 = cv2.cvtColor(cv2.imread(os.path.join(FRAMES_DIR, '5', '1.jpg')), cv2.COLOR_BGR2RGB)\n",
        "img2 = cv2.cvtColor(cv2.imread(os.path.join(FRAMES_BORDERLESS_DIR, '5', '1.jpg')), cv2.COLOR_BGR2RGB)\n",
        "\n",
        "fig = plt.figure(figsize=(10, 20))\n",
        "fig.add_subplot(1, 2, 1)\n",
        "plt.imshow(img1)\n",
        "print(img1.shape)\n",
        "fig.add_subplot(1, 2, 2)\n",
        "plt.imshow(img2)\n",
        "print(img2.shape)\n",
        "plt.show()"
      ],
      "execution_count": 0,
      "outputs": []
    },
    {
      "cell_type": "markdown",
      "metadata": {
        "id": "ZXpOR8lR844f",
        "colab_type": "text"
      },
      "source": [
        "Count Finger Images\n"
      ]
    },
    {
      "cell_type": "code",
      "metadata": {
        "id": "cBAKwoxH-a6b",
        "colab_type": "code",
        "colab": {}
      },
      "source": [
        "values = [[(i, count_files(folder)) for i, folder in enumerate(glob.glob(FRAMES_DIR+'*'))][i][1] for i in range(5)]\n",
        "y_pos = np.arange(1, len(values)+1)\n",
        "\n",
        "plt.bar(y_pos, values, align='center')\n",
        "plt.xticks(y_pos, values)\n",
        "plt.ylabel('Count')\n",
        "plt.title('Image count per finger')\n",
        "\n",
        "plt.show()"
      ],
      "execution_count": 0,
      "outputs": []
    },
    {
      "cell_type": "code",
      "metadata": {
        "id": "X32dJtiMFbZe",
        "colab_type": "code",
        "colab": {}
      },
      "source": [
        "train_size = 0\n",
        "for value in values:\n",
        "  train_size += value"
      ],
      "execution_count": 0,
      "outputs": []
    },
    {
      "cell_type": "markdown",
      "metadata": {
        "id": "2rL4PsMpNUpb",
        "colab_type": "text"
      },
      "source": [
        "Dimension Check"
      ]
    },
    {
      "cell_type": "code",
      "metadata": {
        "id": "WYhAzFYpBv_F",
        "colab_type": "code",
        "colab": {}
      },
      "source": [
        "shapes = {}\n",
        "i = 0\n",
        "previous_shape = None\n",
        "for folder in glob.glob(FRAMES_DIR+'*'):\n",
        "  for file in glob.glob(folder+'/*'):\n",
        "    img = cv2.imread(file)\n",
        "    shape = img.shape\n",
        "    if previous_shape != shape:\n",
        "      previous_shape = shape\n",
        "      i += 1\n",
        "    shapes.update({i: previous_shape})\n",
        "print(shapes)\n",
        "if len(shapes) == 1:\n",
        "  print(f\"All images' shapes are equal to {img.shape}.\")"
      ],
      "execution_count": 0,
      "outputs": []
    },
    {
      "cell_type": "markdown",
      "metadata": {
        "id": "WjJ39cdRNkIA",
        "colab_type": "text"
      },
      "source": [
        "Resize Images"
      ]
    },
    {
      "cell_type": "code",
      "metadata": {
        "colab_type": "code",
        "id": "t0l9ncu4N00w",
        "colab": {}
      },
      "source": [
        "mkdir(FRAMES_RESIZED_DIR)\n",
        "for folder in sorted(os.listdir(FRAMES_BORDERLESS_DIR)):\n",
        "  finger_path = os.path.join(FRAMES_BORDERLESS_DIR, folder)\n",
        "  finger_resized_path = os.path.join(FRAMES_RESIZED_DIR, folder)\n",
        "  mkdir(finger_resized_path)\n",
        "  for file in sorted(os.listdir(finger_path)):\n",
        "    path = os.path.join(finger_path, file)\n",
        "    img = cv2.imread(path)\n",
        "    img = cv2.resize(img, TARGET_SIZE)\n",
        "    cv2.imwrite(os.path.join(finger_resized_path, file), img)"
      ],
      "execution_count": 0,
      "outputs": []
    },
    {
      "cell_type": "code",
      "metadata": {
        "id": "7EPY71awXn2J",
        "colab_type": "code",
        "colab": {}
      },
      "source": [
        "img1 = cv2.cvtColor(cv2.imread(os.path.join(FRAMES_DIR, '5', '1.jpg')), cv2.COLOR_BGR2RGB)\n",
        "img2 = cv2.cvtColor(cv2.imread(os.path.join(FRAMES_RESIZED_DIR, '5', '1.jpg')), cv2.COLOR_BGR2RGB)\n",
        "\n",
        "fig = plt.figure(figsize=(10, 20))\n",
        "fig.add_subplot(1, 2, 1)\n",
        "plt.imshow(img1)\n",
        "print(img1.shape)\n",
        "fig.add_subplot(1, 2, 2)\n",
        "plt.imshow(img2)\n",
        "print(img2.shape)\n",
        "plt.show()"
      ],
      "execution_count": 0,
      "outputs": []
    },
    {
      "cell_type": "markdown",
      "metadata": {
        "id": "dExR-Y_V89u1",
        "colab_type": "text"
      },
      "source": [
        "## Dataset Preparation"
      ]
    },
    {
      "cell_type": "code",
      "metadata": {
        "id": "2SJFawaNVB7y",
        "colab_type": "code",
        "colab": {}
      },
      "source": [
        "data = []\n",
        "labels = []\n",
        "\n",
        "for folder in sorted(glob.glob(FRAMES_RESIZED_DIR+'*')):\n",
        "  for file in sorted(glob.glob(folder+os.path.sep+'*')):\n",
        "    img = cv2.imread(file)\n",
        "    # img = cv2.resize(img, (image_width, image_height))\n",
        "    img = img_to_array(img)\n",
        "    data.append(img)\n",
        "    label = int(file.split(os.path.sep)[-2]) - 1\n",
        "    labels.append(label)"
      ],
      "execution_count": 0,
      "outputs": []
    },
    {
      "cell_type": "code",
      "metadata": {
        "id": "dR7GZ9XJZbO_",
        "colab_type": "code",
        "colab": {}
      },
      "source": [
        "data = np.array(data, dtype=\"float\") / 255.0\n",
        "labels = np.array(labels)"
      ],
      "execution_count": 0,
      "outputs": []
    },
    {
      "cell_type": "code",
      "metadata": {
        "id": "-Y5MsTCJZobC",
        "colab_type": "code",
        "colab": {}
      },
      "source": [
        "(X_train, X_test, Y_train, Y_test) = train_test_split(data,\n",
        "\tlabels, test_size=0.2, random_state=131)"
      ],
      "execution_count": 0,
      "outputs": []
    },
    {
      "cell_type": "code",
      "metadata": {
        "id": "VaU8gNd4Z1rI",
        "colab_type": "code",
        "colab": {}
      },
      "source": [
        "Y_train = to_categorical(Y_train)\n",
        "Y_test = to_categorical(Y_test)"
      ],
      "execution_count": 0,
      "outputs": []
    },
    {
      "cell_type": "code",
      "metadata": {
        "id": "NOGkdPKfTB3i",
        "colab_type": "code",
        "colab": {
          "base_uri": "https://localhost:8080/",
          "height": 118
        },
        "outputId": "fb7ab612-17bf-4dfe-df16-2ebfd34b444c"
      },
      "source": [
        "print (\"number of training examples = \" + str(X_train.shape[0]))\n",
        "print (\"number of test examples = \" + str(X_test.shape[0]))\n",
        "print (\"X_train shape: \" + str(X_train.shape))\n",
        "print (\"Y_train shape: \" + str(Y_train.shape))\n",
        "print (\"X_test shape: \" + str(X_test.shape))\n",
        "print (\"Y_test shape: \" + str(Y_test.shape))"
      ],
      "execution_count": 228,
      "outputs": [
        {
          "output_type": "stream",
          "text": [
            "number of training examples = 2560\n",
            "number of test examples = 640\n",
            "X_train shape: (2560, 120, 90, 3)\n",
            "Y_train shape: (2560, 5)\n",
            "X_test shape: (640, 120, 90, 3)\n",
            "Y_test shape: (640, 5)\n"
          ],
          "name": "stdout"
        }
      ]
    },
    {
      "cell_type": "markdown",
      "metadata": {
        "id": "sd-mK2M8xCBs",
        "colab_type": "text"
      },
      "source": [
        "## Model Preparation"
      ]
    },
    {
      "cell_type": "code",
      "metadata": {
        "id": "z0N1JF8pw-dG",
        "colab_type": "code",
        "colab": {}
      },
      "source": [
        ""
      ],
      "execution_count": 0,
      "outputs": []
    }
  ]
}